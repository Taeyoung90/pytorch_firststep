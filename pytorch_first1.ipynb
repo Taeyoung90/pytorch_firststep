{
  "nbformat": 4,
  "nbformat_minor": 0,
  "metadata": {
    "colab": {
      "name": "pytorch_first1",
      "provenance": [],
      "authorship_tag": "ABX9TyPNgacw6vV/qSyQqLkNjh4r",
      "include_colab_link": true
    },
    "kernelspec": {
      "name": "python3",
      "display_name": "Python 3"
    },
    "language_info": {
      "name": "python"
    }
  },
  "cells": [
    {
      "cell_type": "markdown",
      "metadata": {
        "id": "view-in-github",
        "colab_type": "text"
      },
      "source": [
        "<a href=\"https://colab.research.google.com/github/Taeyoung90/pytorch_firststep/blob/main/pytorch_first1.ipynb\" target=\"_parent\"><img src=\"https://colab.research.google.com/assets/colab-badge.svg\" alt=\"Open In Colab\"/></a>"
      ]
    },
    {
      "cell_type": "code",
      "metadata": {
        "id": "y_ossKnBeGOV"
      },
      "source": [
        "import torch"
      ],
      "execution_count": 1,
      "outputs": []
    },
    {
      "cell_type": "code",
      "metadata": {
        "colab": {
          "base_uri": "https://localhost:8080/"
        },
        "id": "G9Jr8ZupeL_3",
        "outputId": "97c0bd0f-8df3-46d9-acf9-6d13c208f712"
      },
      "source": [
        "print(torch.__version__)"
      ],
      "execution_count": 2,
      "outputs": [
        {
          "output_type": "stream",
          "text": [
            "1.9.0+cu102\n"
          ],
          "name": "stdout"
        }
      ]
    },
    {
      "cell_type": "code",
      "metadata": {
        "colab": {
          "base_uri": "https://localhost:8080/"
        },
        "id": "3K2EoYsSeQWv",
        "outputId": "4e2fd777-686b-41b8-ac19-d17000521502"
      },
      "source": [
        "X = torch.Tensor(2,3) #2×3 형태의 난수 생성\n",
        "print(X.shape)"
      ],
      "execution_count": 4,
      "outputs": [
        {
          "output_type": "stream",
          "text": [
            "torch.Size([2, 3])\n"
          ],
          "name": "stdout"
        }
      ]
    },
    {
      "cell_type": "code",
      "metadata": {
        "colab": {
          "base_uri": "https://localhost:8080/"
        },
        "id": "qr3WxAlGehXo",
        "outputId": "e8238baf-ea02-4bac-80b1-d7dc93d19177"
      },
      "source": [
        "print(X)"
      ],
      "execution_count": 5,
      "outputs": [
        {
          "output_type": "stream",
          "text": [
            "tensor([[8.7276e-21, 3.0750e-41, 0.0000e+00],\n",
            "        [0.0000e+00, 0.0000e+00, 0.0000e+00]])\n"
          ],
          "name": "stdout"
        }
      ]
    },
    {
      "cell_type": "code",
      "metadata": {
        "id": "0GIEAAAgepth"
      },
      "source": [
        "X = torch.tensor([[1,2,3],[4,5,6]])"
      ],
      "execution_count": 6,
      "outputs": []
    },
    {
      "cell_type": "code",
      "metadata": {
        "colab": {
          "base_uri": "https://localhost:8080/"
        },
        "id": "2_2JEqX9e5V0",
        "outputId": "3e882008-5103-4f5b-bfd7-a1f1a31c5856"
      },
      "source": [
        "print(X.shape)\n",
        "print(X)"
      ],
      "execution_count": 7,
      "outputs": [
        {
          "output_type": "stream",
          "text": [
            "torch.Size([2, 3])\n",
            "tensor([[1, 2, 3],\n",
            "        [4, 5, 6]])\n"
          ],
          "name": "stdout"
        }
      ]
    },
    {
      "cell_type": "code",
      "metadata": {
        "colab": {
          "base_uri": "https://localhost:8080/"
        },
        "id": "jaE6EsWfe70R",
        "outputId": "0fba2ab8-b78e-491a-e274-27ccdc4f7607"
      },
      "source": [
        "#기울기를 계산하는 코드 예시\n",
        "x = torch.tensor(data=[2.0,3.0], requires_grad=True)\n",
        "y = x**2\n",
        "z= 2*y +3\n",
        "\n",
        "target = torch.tensor([3.0,4.0])\n",
        "loss = torch.sum(torch.abs(z-target))\n",
        "loss.backward()\n",
        "\n",
        "print(x.grad, y.grad, z.grad)"
      ],
      "execution_count": 8,
      "outputs": [
        {
          "output_type": "stream",
          "text": [
            "tensor([ 8., 12.]) None None\n"
          ],
          "name": "stdout"
        },
        {
          "output_type": "stream",
          "text": [
            "/usr/local/lib/python3.7/dist-packages/ipykernel_launcher.py:10: UserWarning: The .grad attribute of a Tensor that is not a leaf Tensor is being accessed. Its .grad attribute won't be populated during autograd.backward(). If you indeed want the gradient for a non-leaf Tensor, use .retain_grad() on the non-leaf Tensor. If you access the non-leaf Tensor by mistake, make sure you access the leaf Tensor instead. See github.com/pytorch/pytorch/pull/30531 for more information.\n",
            "  # Remove the CWD from sys.path while we load stuff.\n"
          ],
          "name": "stderr"
        }
      ]
    },
    {
      "cell_type": "markdown",
      "metadata": {
        "id": "OlljxJeHggLC"
      },
      "source": [
        "x는 leaf node라서 계산되지만, y,z는 leaf node가 아니기 때문에 계산이 안되어 None리턴"
      ]
    },
    {
      "cell_type": "markdown",
      "metadata": {
        "id": "PFdViNsykAJu"
      },
      "source": [
        "### linear regression model 생성, 기울기 계산하여 w,b업데이트"
      ]
    },
    {
      "cell_type": "code",
      "metadata": {
        "id": "594JgaGCkK_A"
      },
      "source": [
        "import torch\n",
        "import torch.nn as nn\n",
        "import torch.optim as optim\n",
        "import torch.nn.init as init"
      ],
      "execution_count": 9,
      "outputs": []
    },
    {
      "cell_type": "code",
      "metadata": {
        "id": "LYW1hcIQkVnv"
      },
      "source": [
        "num_data = 1000\n",
        "num_epoch = 500\n",
        "\n",
        "x = init.uniform_(torch.Tensor(num_data,1), -10,10)\n",
        "noise = init.normal_(torch.FloatTensor(num_data,1), std=1) #가우시안 노이즈 평균 0(생략), 표준편차 1\n",
        "y =2*x + 3\n",
        "y_noise = 2*(x+noise)+3"
      ],
      "execution_count": 14,
      "outputs": []
    },
    {
      "cell_type": "markdown",
      "metadata": {
        "id": "zd2NMfs5k_Hx"
      },
      "source": [
        "1000,1 형태의 tensor 생성후  \n",
        "init.uniform_() : -10~10 균등하게 초기화  \n",
        "gaussian 노이즈 추가(표준정규분포를 따르는)"
      ]
    },
    {
      "cell_type": "code",
      "metadata": {
        "id": "eKd3buElli62"
      },
      "source": [
        "model = nn.Linear(1,1)# 입력 특성수 1, 출력 특성수 1\n",
        "loss_func = torch.nn.L1Loss()# l1 손실 : 차이절대값 평균"
      ],
      "execution_count": 11,
      "outputs": []
    },
    {
      "cell_type": "code",
      "metadata": {
        "id": "8x0BJALumH76"
      },
      "source": [
        "optimizer = optim.SGD(model.parameters(), lr=0.01) "
      ],
      "execution_count": 12,
      "outputs": []
    },
    {
      "cell_type": "markdown",
      "metadata": {
        "id": "JYVhAE1MmvZ1"
      },
      "source": [
        "최적화할 변수로 model.parameters()를 통해 선형회귀 모델의 변수 w,b 전달"
      ]
    },
    {
      "cell_type": "code",
      "metadata": {
        "colab": {
          "base_uri": "https://localhost:8080/"
        },
        "id": "ELltWmB5nLej",
        "outputId": "8dbcc6cf-5e72-48d3-9bf5-42e0ae63202f"
      },
      "source": [
        "label = y_noise\n",
        "for i in range(num_epoch):\n",
        "  optimizer.zero_grad() #각 반복시 지난번에 계산했던 기울기를 0 으로 초기화 > 새로운 가중치와 편차에 대해서 새로운 기술기를 구할 수 있음\n",
        "  output = model(x)#모델에 x를 전달하여 결과 output에 저장\n",
        "\n",
        "  loss = loss_func(output, label)\n",
        "  loss.backward() #변수 w,b에 대한 기울기가 계산\n",
        "  optimizer.step() #model.parameters()에서 리턴되는 변수들의 \n",
        "\n",
        "  if i % 1 ==0:\n",
        "    print(loss.data)\n",
        "    \n",
        "param_list = list(model.parameters())\n",
        "print(param_list[0].item(), param_list[1].item())"
      ],
      "execution_count": 15,
      "outputs": [
        {
          "output_type": "stream",
          "text": [
            "tensor(14.4787)\n",
            "tensor(14.2341)\n",
            "tensor(13.9898)\n",
            "tensor(13.7460)\n",
            "tensor(13.5027)\n",
            "tensor(13.2599)\n",
            "tensor(13.0181)\n",
            "tensor(12.7771)\n",
            "tensor(12.5361)\n",
            "tensor(12.2957)\n",
            "tensor(12.0561)\n",
            "tensor(11.8168)\n",
            "tensor(11.5780)\n",
            "tensor(11.3404)\n",
            "tensor(11.1033)\n",
            "tensor(10.8669)\n",
            "tensor(10.6311)\n",
            "tensor(10.3961)\n",
            "tensor(10.1614)\n",
            "tensor(9.9273)\n",
            "tensor(9.6950)\n",
            "tensor(9.4631)\n",
            "tensor(9.2321)\n",
            "tensor(9.0032)\n",
            "tensor(8.7767)\n",
            "tensor(8.5518)\n",
            "tensor(8.3290)\n",
            "tensor(8.1079)\n",
            "tensor(7.8879)\n",
            "tensor(7.6699)\n",
            "tensor(7.4545)\n",
            "tensor(7.2414)\n",
            "tensor(7.0316)\n",
            "tensor(6.8279)\n",
            "tensor(6.6281)\n",
            "tensor(6.4340)\n",
            "tensor(6.2465)\n",
            "tensor(6.0661)\n",
            "tensor(5.8904)\n",
            "tensor(5.7221)\n",
            "tensor(5.5595)\n",
            "tensor(5.4021)\n",
            "tensor(5.2517)\n",
            "tensor(5.1131)\n",
            "tensor(4.9817)\n",
            "tensor(4.8563)\n",
            "tensor(4.7431)\n",
            "tensor(4.6415)\n",
            "tensor(4.5481)\n",
            "tensor(4.4657)\n",
            "tensor(4.3884)\n",
            "tensor(4.3161)\n",
            "tensor(4.2479)\n",
            "tensor(4.1862)\n",
            "tensor(4.1295)\n",
            "tensor(4.0818)\n",
            "tensor(4.0403)\n",
            "tensor(4.0018)\n",
            "tensor(3.9659)\n",
            "tensor(3.9322)\n",
            "tensor(3.9008)\n",
            "tensor(3.8733)\n",
            "tensor(3.8488)\n",
            "tensor(3.8260)\n",
            "tensor(3.8048)\n",
            "tensor(3.7844)\n",
            "tensor(3.7647)\n",
            "tensor(3.7459)\n",
            "tensor(3.7274)\n",
            "tensor(3.7100)\n",
            "tensor(3.6931)\n",
            "tensor(3.6771)\n",
            "tensor(3.6621)\n",
            "tensor(3.6478)\n",
            "tensor(3.6338)\n",
            "tensor(3.6203)\n",
            "tensor(3.6070)\n",
            "tensor(3.5939)\n",
            "tensor(3.5809)\n",
            "tensor(3.5684)\n",
            "tensor(3.5565)\n",
            "tensor(3.5448)\n",
            "tensor(3.5332)\n",
            "tensor(3.5219)\n",
            "tensor(3.5106)\n",
            "tensor(3.4996)\n",
            "tensor(3.4888)\n",
            "tensor(3.4779)\n",
            "tensor(3.4672)\n",
            "tensor(3.4567)\n",
            "tensor(3.4464)\n",
            "tensor(3.4365)\n",
            "tensor(3.4267)\n",
            "tensor(3.4171)\n",
            "tensor(3.4076)\n",
            "tensor(3.3982)\n",
            "tensor(3.3889)\n",
            "tensor(3.3797)\n",
            "tensor(3.3707)\n",
            "tensor(3.3617)\n",
            "tensor(3.3528)\n",
            "tensor(3.3439)\n",
            "tensor(3.3352)\n",
            "tensor(3.3264)\n",
            "tensor(3.3177)\n",
            "tensor(3.3089)\n",
            "tensor(3.3002)\n",
            "tensor(3.2914)\n",
            "tensor(3.2827)\n",
            "tensor(3.2741)\n",
            "tensor(3.2656)\n",
            "tensor(3.2571)\n",
            "tensor(3.2487)\n",
            "tensor(3.2403)\n",
            "tensor(3.2320)\n",
            "tensor(3.2237)\n",
            "tensor(3.2155)\n",
            "tensor(3.2072)\n",
            "tensor(3.1991)\n",
            "tensor(3.1911)\n",
            "tensor(3.1831)\n",
            "tensor(3.1751)\n",
            "tensor(3.1671)\n",
            "tensor(3.1591)\n",
            "tensor(3.1511)\n",
            "tensor(3.1432)\n",
            "tensor(3.1354)\n",
            "tensor(3.1277)\n",
            "tensor(3.1200)\n",
            "tensor(3.1123)\n",
            "tensor(3.1046)\n",
            "tensor(3.0969)\n",
            "tensor(3.0892)\n",
            "tensor(3.0815)\n",
            "tensor(3.0739)\n",
            "tensor(3.0663)\n",
            "tensor(3.0586)\n",
            "tensor(3.0510)\n",
            "tensor(3.0435)\n",
            "tensor(3.0360)\n",
            "tensor(3.0286)\n",
            "tensor(3.0212)\n",
            "tensor(3.0138)\n",
            "tensor(3.0065)\n",
            "tensor(2.9991)\n",
            "tensor(2.9917)\n",
            "tensor(2.9843)\n",
            "tensor(2.9770)\n",
            "tensor(2.9697)\n",
            "tensor(2.9624)\n",
            "tensor(2.9551)\n",
            "tensor(2.9478)\n",
            "tensor(2.9405)\n",
            "tensor(2.9332)\n",
            "tensor(2.9259)\n",
            "tensor(2.9186)\n",
            "tensor(2.9114)\n",
            "tensor(2.9041)\n",
            "tensor(2.8968)\n",
            "tensor(2.8895)\n",
            "tensor(2.8822)\n",
            "tensor(2.8749)\n",
            "tensor(2.8676)\n",
            "tensor(2.8604)\n",
            "tensor(2.8532)\n",
            "tensor(2.8460)\n",
            "tensor(2.8389)\n",
            "tensor(2.8318)\n",
            "tensor(2.8248)\n",
            "tensor(2.8177)\n",
            "tensor(2.8107)\n",
            "tensor(2.8037)\n",
            "tensor(2.7967)\n",
            "tensor(2.7898)\n",
            "tensor(2.7829)\n",
            "tensor(2.7761)\n",
            "tensor(2.7693)\n",
            "tensor(2.7625)\n",
            "tensor(2.7557)\n",
            "tensor(2.7490)\n",
            "tensor(2.7423)\n",
            "tensor(2.7357)\n",
            "tensor(2.7290)\n",
            "tensor(2.7224)\n",
            "tensor(2.7158)\n",
            "tensor(2.7092)\n",
            "tensor(2.7026)\n",
            "tensor(2.6960)\n",
            "tensor(2.6895)\n",
            "tensor(2.6829)\n",
            "tensor(2.6763)\n",
            "tensor(2.6698)\n",
            "tensor(2.6632)\n",
            "tensor(2.6567)\n",
            "tensor(2.6502)\n",
            "tensor(2.6436)\n",
            "tensor(2.6371)\n",
            "tensor(2.6307)\n",
            "tensor(2.6242)\n",
            "tensor(2.6178)\n",
            "tensor(2.6115)\n",
            "tensor(2.6052)\n",
            "tensor(2.5988)\n",
            "tensor(2.5926)\n",
            "tensor(2.5863)\n",
            "tensor(2.5801)\n",
            "tensor(2.5739)\n",
            "tensor(2.5677)\n",
            "tensor(2.5615)\n",
            "tensor(2.5553)\n",
            "tensor(2.5492)\n",
            "tensor(2.5431)\n",
            "tensor(2.5371)\n",
            "tensor(2.5311)\n",
            "tensor(2.5251)\n",
            "tensor(2.5192)\n",
            "tensor(2.5132)\n",
            "tensor(2.5074)\n",
            "tensor(2.5015)\n",
            "tensor(2.4957)\n",
            "tensor(2.4898)\n",
            "tensor(2.4840)\n",
            "tensor(2.4782)\n",
            "tensor(2.4724)\n",
            "tensor(2.4668)\n",
            "tensor(2.4611)\n",
            "tensor(2.4554)\n",
            "tensor(2.4498)\n",
            "tensor(2.4442)\n",
            "tensor(2.4387)\n",
            "tensor(2.4331)\n",
            "tensor(2.4275)\n",
            "tensor(2.4220)\n",
            "tensor(2.4165)\n",
            "tensor(2.4109)\n",
            "tensor(2.4055)\n",
            "tensor(2.4001)\n",
            "tensor(2.3947)\n",
            "tensor(2.3893)\n",
            "tensor(2.3839)\n",
            "tensor(2.3785)\n",
            "tensor(2.3731)\n",
            "tensor(2.3678)\n",
            "tensor(2.3625)\n",
            "tensor(2.3572)\n",
            "tensor(2.3519)\n",
            "tensor(2.3466)\n",
            "tensor(2.3413)\n",
            "tensor(2.3360)\n",
            "tensor(2.3307)\n",
            "tensor(2.3254)\n",
            "tensor(2.3202)\n",
            "tensor(2.3149)\n",
            "tensor(2.3096)\n",
            "tensor(2.3044)\n",
            "tensor(2.2992)\n",
            "tensor(2.2941)\n",
            "tensor(2.2890)\n",
            "tensor(2.2840)\n",
            "tensor(2.2790)\n",
            "tensor(2.2741)\n",
            "tensor(2.2692)\n",
            "tensor(2.2643)\n",
            "tensor(2.2594)\n",
            "tensor(2.2545)\n",
            "tensor(2.2497)\n",
            "tensor(2.2449)\n",
            "tensor(2.2401)\n",
            "tensor(2.2353)\n",
            "tensor(2.2304)\n",
            "tensor(2.2257)\n",
            "tensor(2.2210)\n",
            "tensor(2.2163)\n",
            "tensor(2.2116)\n",
            "tensor(2.2069)\n",
            "tensor(2.2023)\n",
            "tensor(2.1977)\n",
            "tensor(2.1931)\n",
            "tensor(2.1886)\n",
            "tensor(2.1840)\n",
            "tensor(2.1796)\n",
            "tensor(2.1751)\n",
            "tensor(2.1707)\n",
            "tensor(2.1663)\n",
            "tensor(2.1619)\n",
            "tensor(2.1575)\n",
            "tensor(2.1532)\n",
            "tensor(2.1489)\n",
            "tensor(2.1447)\n",
            "tensor(2.1404)\n",
            "tensor(2.1362)\n",
            "tensor(2.1319)\n",
            "tensor(2.1278)\n",
            "tensor(2.1237)\n",
            "tensor(2.1195)\n",
            "tensor(2.1154)\n",
            "tensor(2.1114)\n",
            "tensor(2.1074)\n",
            "tensor(2.1034)\n",
            "tensor(2.0995)\n",
            "tensor(2.0956)\n",
            "tensor(2.0917)\n",
            "tensor(2.0878)\n",
            "tensor(2.0839)\n",
            "tensor(2.0800)\n",
            "tensor(2.0762)\n",
            "tensor(2.0723)\n",
            "tensor(2.0685)\n",
            "tensor(2.0647)\n",
            "tensor(2.0609)\n",
            "tensor(2.0572)\n",
            "tensor(2.0535)\n",
            "tensor(2.0498)\n",
            "tensor(2.0462)\n",
            "tensor(2.0426)\n",
            "tensor(2.0391)\n",
            "tensor(2.0355)\n",
            "tensor(2.0320)\n",
            "tensor(2.0285)\n",
            "tensor(2.0249)\n",
            "tensor(2.0215)\n",
            "tensor(2.0180)\n",
            "tensor(2.0147)\n",
            "tensor(2.0113)\n",
            "tensor(2.0080)\n",
            "tensor(2.0048)\n",
            "tensor(2.0015)\n",
            "tensor(1.9983)\n",
            "tensor(1.9951)\n",
            "tensor(1.9919)\n",
            "tensor(1.9888)\n",
            "tensor(1.9856)\n",
            "tensor(1.9825)\n",
            "tensor(1.9793)\n",
            "tensor(1.9762)\n",
            "tensor(1.9732)\n",
            "tensor(1.9701)\n",
            "tensor(1.9671)\n",
            "tensor(1.9640)\n",
            "tensor(1.9611)\n",
            "tensor(1.9581)\n",
            "tensor(1.9552)\n",
            "tensor(1.9524)\n",
            "tensor(1.9495)\n",
            "tensor(1.9467)\n",
            "tensor(1.9439)\n",
            "tensor(1.9410)\n",
            "tensor(1.9382)\n",
            "tensor(1.9354)\n",
            "tensor(1.9326)\n",
            "tensor(1.9298)\n",
            "tensor(1.9271)\n",
            "tensor(1.9243)\n",
            "tensor(1.9216)\n",
            "tensor(1.9189)\n",
            "tensor(1.9161)\n",
            "tensor(1.9134)\n",
            "tensor(1.9107)\n",
            "tensor(1.9081)\n",
            "tensor(1.9054)\n",
            "tensor(1.9028)\n",
            "tensor(1.9002)\n",
            "tensor(1.8976)\n",
            "tensor(1.8950)\n",
            "tensor(1.8925)\n",
            "tensor(1.8900)\n",
            "tensor(1.8874)\n",
            "tensor(1.8849)\n",
            "tensor(1.8824)\n",
            "tensor(1.8799)\n",
            "tensor(1.8775)\n",
            "tensor(1.8750)\n",
            "tensor(1.8726)\n",
            "tensor(1.8702)\n",
            "tensor(1.8678)\n",
            "tensor(1.8654)\n",
            "tensor(1.8630)\n",
            "tensor(1.8607)\n",
            "tensor(1.8584)\n",
            "tensor(1.8561)\n",
            "tensor(1.8538)\n",
            "tensor(1.8516)\n",
            "tensor(1.8493)\n",
            "tensor(1.8470)\n",
            "tensor(1.8448)\n",
            "tensor(1.8425)\n",
            "tensor(1.8403)\n",
            "tensor(1.8381)\n",
            "tensor(1.8359)\n",
            "tensor(1.8337)\n",
            "tensor(1.8316)\n",
            "tensor(1.8294)\n",
            "tensor(1.8273)\n",
            "tensor(1.8251)\n",
            "tensor(1.8230)\n",
            "tensor(1.8209)\n",
            "tensor(1.8187)\n",
            "tensor(1.8166)\n",
            "tensor(1.8146)\n",
            "tensor(1.8125)\n",
            "tensor(1.8105)\n",
            "tensor(1.8084)\n",
            "tensor(1.8064)\n",
            "tensor(1.8045)\n",
            "tensor(1.8025)\n",
            "tensor(1.8005)\n",
            "tensor(1.7986)\n",
            "tensor(1.7967)\n",
            "tensor(1.7948)\n",
            "tensor(1.7929)\n",
            "tensor(1.7910)\n",
            "tensor(1.7892)\n",
            "tensor(1.7873)\n",
            "tensor(1.7854)\n",
            "tensor(1.7836)\n",
            "tensor(1.7817)\n",
            "tensor(1.7799)\n",
            "tensor(1.7780)\n",
            "tensor(1.7762)\n",
            "tensor(1.7744)\n",
            "tensor(1.7725)\n",
            "tensor(1.7707)\n",
            "tensor(1.7689)\n",
            "tensor(1.7671)\n",
            "tensor(1.7652)\n",
            "tensor(1.7635)\n",
            "tensor(1.7618)\n",
            "tensor(1.7600)\n",
            "tensor(1.7584)\n",
            "tensor(1.7567)\n",
            "tensor(1.7550)\n",
            "tensor(1.7534)\n",
            "tensor(1.7518)\n",
            "tensor(1.7501)\n",
            "tensor(1.7485)\n",
            "tensor(1.7469)\n",
            "tensor(1.7454)\n",
            "tensor(1.7438)\n",
            "tensor(1.7423)\n",
            "tensor(1.7408)\n",
            "tensor(1.7393)\n",
            "tensor(1.7377)\n",
            "tensor(1.7362)\n",
            "tensor(1.7347)\n",
            "tensor(1.7332)\n",
            "tensor(1.7317)\n",
            "tensor(1.7301)\n",
            "tensor(1.7286)\n",
            "tensor(1.7271)\n",
            "tensor(1.7256)\n",
            "tensor(1.7241)\n",
            "tensor(1.7226)\n",
            "tensor(1.7211)\n",
            "tensor(1.7196)\n",
            "tensor(1.7182)\n",
            "tensor(1.7167)\n",
            "tensor(1.7152)\n",
            "tensor(1.7138)\n",
            "tensor(1.7123)\n",
            "tensor(1.7109)\n",
            "tensor(1.7094)\n",
            "tensor(1.7080)\n",
            "tensor(1.7065)\n",
            "tensor(1.7051)\n",
            "tensor(1.7038)\n",
            "tensor(1.7024)\n",
            "tensor(1.7010)\n",
            "tensor(1.6997)\n",
            "tensor(1.6984)\n",
            "tensor(1.6971)\n",
            "tensor(1.6958)\n",
            "tensor(1.6945)\n",
            "tensor(1.6932)\n",
            "tensor(1.6919)\n",
            "tensor(1.6907)\n",
            "tensor(1.6894)\n",
            "tensor(1.6882)\n",
            "tensor(1.6870)\n",
            "tensor(1.6858)\n",
            "tensor(1.6845)\n",
            "tensor(1.6834)\n",
            "tensor(1.6822)\n",
            "tensor(1.6810)\n",
            "tensor(1.6799)\n",
            "tensor(1.6787)\n",
            "tensor(1.6776)\n",
            "tensor(1.6764)\n",
            "tensor(1.6753)\n",
            "tensor(1.6741)\n",
            "tensor(1.6730)\n",
            "tensor(1.6719)\n",
            "tensor(1.6708)\n",
            "tensor(1.6698)\n",
            "tensor(1.6687)\n",
            "tensor(1.6677)\n",
            "tensor(1.6666)\n",
            "tensor(1.6656)\n",
            "tensor(1.6646)\n",
            "tensor(1.6637)\n",
            "tensor(1.6627)\n",
            "2.022185802459717 2.233541250228882\n"
          ],
          "name": "stdout"
        }
      ]
    },
    {
      "cell_type": "code",
      "metadata": {
        "id": "XaOqxO6enfuf"
      },
      "source": [
        "import torch\n",
        "import torch.nn as nn\n",
        "import torch.optim as optim\n",
        "import torch.nn.init as init\n",
        "\n",
        "num_data = 1000\n",
        "num_epoch =  10000\n",
        "\n",
        "noise = init.normal_(torch.FloatTensor(num_data,1), std=1)\n",
        "x = init.uniform_(torch.Tensor(num_data,1), -15,15)\n",
        "y = (x**2) +3\n",
        "y_noise = y+ noise\n",
        "\n",
        "model = nn.Sequential(\n",
        "    nn.Linear(1,6),\n",
        "    nn.ReLU(),\n",
        "    nn.Linear(6,10),\n",
        "    nn.ReLU(),\n",
        "    nn.Linear(10,6),\n",
        "    nn.ReLU(),\n",
        "    nn.Linear(6,1)\n",
        ")\n",
        "\n",
        "loss_func = nn.L1Loss()\n",
        "optimizer = optim.SGD(model.parameters(), lr=0.0002)\n",
        "\n",
        "loss_array = []\n",
        "for i in range(num_epoch):\n",
        "  optimizer.zero_grad()\n",
        "  output= model(x)\n",
        "  loss = loss_func(output, y_noise)\n",
        "  loss.backward()\n",
        "  optimizer.step()\n",
        "\n",
        "  loss_array.append(loss)\n"
      ],
      "execution_count": 17,
      "outputs": []
    },
    {
      "cell_type": "code",
      "metadata": {
        "colab": {
          "base_uri": "https://localhost:8080/",
          "height": 268
        },
        "id": "fx7kI3puvTah",
        "outputId": "66ac57e5-1cd6-4ba8-cdd3-3ab05508988e"
      },
      "source": [
        "import matplotlib.pyplot as plt\n",
        "\n",
        "\n",
        "plt.plot(loss_array)\n",
        "plt.show()"
      ],
      "execution_count": 18,
      "outputs": [
        {
          "output_type": "display_data",
          "data": {
            "image/png": "[encoded data removed]",
            "text/plain": [
              "<Figure size 432x288 with 1 Axes>"
            ]
          },
          "metadata": {
            "needs_background": "light"
          }
        }
      ]
    }
  ]
}